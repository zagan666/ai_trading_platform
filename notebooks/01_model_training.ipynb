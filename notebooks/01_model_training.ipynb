{
 "cells": [
  {
   "cell_type": "code",
   "execution_count": 1,
   "id": "bf20100a",
   "metadata": {},
   "outputs": [
    {
     "name": "stdout",
     "output_type": "stream",
     "text": [
      "Project root added to path: /Users/hans/Code/vs/ai_trading_platform\n",
      "\n",
      "所有函式庫和模組導入成功！\n"
     ]
    }
   ],
   "source": [
    "import pandas as pd\n",
    "import numpy as np\n",
    "import xgboost as xgb\n",
    "from sklearn.model_selection import train_test_split\n",
    "from sklearn.metrics import accuracy_score, classification_report\n",
    "import joblib\n",
    "import sys\n",
    "import os\n",
    "\n",
    "# 將專案根目錄加入 Python 的模組搜尋路徑\n",
    "# 假設筆記本位於專案根目錄下的一個子目錄 (如 'notebooks')\n",
    "project_root = os.path.dirname(os.getcwd())\n",
    "if project_root not in sys.path:\n",
    "    sys.path.append(project_root)\n",
    "\n",
    "# 打印出我們找到的根目錄路徑，以供檢查\n",
    "print(f\"Project root added to path: {project_root}\")\n",
    "\n",
    "# 從我們自己的模組中導入函式\n",
    "from data.data_handler import fetch_data\n",
    "from core.feature_engineering import add_technical_indicators\n",
    "\n",
    "print(\"\\n所有函式庫和模組導入成功！\")"
   ]
  },
  {
   "cell_type": "code",
   "execution_count": 6,
   "id": "e00deae6",
   "metadata": {},
   "outputs": [
    {
     "name": "stdout",
     "output_type": "stream",
     "text": [
      "/Users/hans/Code/vs/ai_trading_platform/venv/bin/python\n"
     ]
    }
   ],
   "source": [
    "import sys\n",
    "print(sys.executable)"
   ]
  },
  {
   "cell_type": "code",
   "execution_count": 5,
   "id": "470afeb7",
   "metadata": {},
   "outputs": [
    {
     "name": "stderr",
     "output_type": "stream",
     "text": [
      "[*********************100%***********************]  1 of 1 completed\n"
     ]
    },
    {
     "ename": "AttributeError",
     "evalue": "Can only use .str accessor with Index, not MultiIndex",
     "output_type": "error",
     "traceback": [
      "\u001b[31m---------------------------------------------------------------------------\u001b[39m",
      "\u001b[31mAttributeError\u001b[39m                            Traceback (most recent call last)",
      "\u001b[36mCell\u001b[39m\u001b[36m \u001b[39m\u001b[32mIn[5]\u001b[39m\u001b[32m, line 5\u001b[39m\n\u001b[32m      2\u001b[39m raw_data = fetch_data(ticker=\u001b[33m\"\u001b[39m\u001b[33mSPY\u001b[39m\u001b[33m\"\u001b[39m, start_date=\u001b[33m\"\u001b[39m\u001b[33m2015-01-01\u001b[39m\u001b[33m\"\u001b[39m, end_date=\u001b[33m\"\u001b[39m\u001b[33m2023-12-31\u001b[39m\u001b[33m\"\u001b[39m)\n\u001b[32m      4\u001b[39m \u001b[38;5;66;03m# 加入技術指標特徵\u001b[39;00m\n\u001b[32m----> \u001b[39m\u001b[32m5\u001b[39m featured_data = \u001b[43madd_technical_indicators\u001b[49m\u001b[43m(\u001b[49m\u001b[43mraw_data\u001b[49m\u001b[43m)\u001b[49m\n\u001b[32m      7\u001b[39m \u001b[38;5;28mprint\u001b[39m(\u001b[33m\"\u001b[39m\u001b[33mData with features loaded and prepared:\u001b[39m\u001b[33m\"\u001b[39m)\n\u001b[32m      8\u001b[39m \u001b[38;5;66;03m# .tail() 會顯示處理完的數據的最後 5 行，讓我們可以快速預覽結果\u001b[39;00m\n",
      "\u001b[36mFile \u001b[39m\u001b[32m~/Code/vs/ai_trading_platform/core/feature_engineering.py:21\u001b[39m, in \u001b[36madd_technical_indicators\u001b[39m\u001b[34m(data)\u001b[39m\n\u001b[32m     17\u001b[39m df = data.copy()\n\u001b[32m     19\u001b[39m \u001b[38;5;66;03m# 使用 pandas_ta 來計算並添加指標。\u001b[39;00m\n\u001b[32m     20\u001b[39m \u001b[38;5;66;03m# .ta.sma() 會計算簡單移動平均線，append=True 會自動將結果 ('SMA_50') 加入 df。\u001b[39;00m\n\u001b[32m---> \u001b[39m\u001b[32m21\u001b[39m \u001b[43mdf\u001b[49m\u001b[43m.\u001b[49m\u001b[43mta\u001b[49m\u001b[43m.\u001b[49m\u001b[43msma\u001b[49m\u001b[43m(\u001b[49m\u001b[43mlength\u001b[49m\u001b[43m=\u001b[49m\u001b[32;43m50\u001b[39;49m\u001b[43m,\u001b[49m\u001b[43m \u001b[49m\u001b[43mappend\u001b[49m\u001b[43m=\u001b[49m\u001b[38;5;28;43;01mTrue\u001b[39;49;00m\u001b[43m)\u001b[49m\n\u001b[32m     23\u001b[39m \u001b[38;5;66;03m# .ta.rsi() 會計算相對強弱指數，append=True 會自動將結果 ('RSI_14') 加入 df。\u001b[39;00m\n\u001b[32m     24\u001b[39m df.ta.rsi(length=\u001b[32m14\u001b[39m, append=\u001b[38;5;28;01mTrue\u001b[39;00m)\n",
      "\u001b[36mFile \u001b[39m\u001b[32m~/Code/vs/ai_trading_platform/venv/lib/python3.12/site-packages/pandas_ta/core.py:1316\u001b[39m, in \u001b[36mAnalysisIndicators.sma\u001b[39m\u001b[34m(self, length, offset, **kwargs)\u001b[39m\n\u001b[32m   1315\u001b[39m \u001b[38;5;28;01mdef\u001b[39;00m\u001b[38;5;250m \u001b[39m\u001b[34msma\u001b[39m(\u001b[38;5;28mself\u001b[39m, length=\u001b[38;5;28;01mNone\u001b[39;00m, offset=\u001b[38;5;28;01mNone\u001b[39;00m, **kwargs):\n\u001b[32m-> \u001b[39m\u001b[32m1316\u001b[39m     close = \u001b[38;5;28;43mself\u001b[39;49m\u001b[43m.\u001b[49m\u001b[43m_get_column\u001b[49m\u001b[43m(\u001b[49m\u001b[43mkwargs\u001b[49m\u001b[43m.\u001b[49m\u001b[43mpop\u001b[49m\u001b[43m(\u001b[49m\u001b[33;43m\"\u001b[39;49m\u001b[33;43mclose\u001b[39;49m\u001b[33;43m\"\u001b[39;49m\u001b[43m,\u001b[49m\u001b[43m \u001b[49m\u001b[33;43m\"\u001b[39;49m\u001b[33;43mclose\u001b[39;49m\u001b[33;43m\"\u001b[39;49m\u001b[43m)\u001b[49m\u001b[43m)\u001b[49m\n\u001b[32m   1317\u001b[39m     result = sma(close=close, length=length, offset=offset, **kwargs)\n\u001b[32m   1318\u001b[39m     \u001b[38;5;28;01mreturn\u001b[39;00m \u001b[38;5;28mself\u001b[39m._post_process(result, **kwargs)\n",
      "\u001b[36mFile \u001b[39m\u001b[32m~/Code/vs/ai_trading_platform/venv/lib/python3.12/site-packages/pandas_ta/core.py:285\u001b[39m, in \u001b[36mAnalysisIndicators._get_column\u001b[39m\u001b[34m(self, series)\u001b[39m\n\u001b[32m    281\u001b[39m     \u001b[38;5;28;01mreturn\u001b[39;00m df[series]\n\u001b[32m    282\u001b[39m \u001b[38;5;28;01melse\u001b[39;00m:\n\u001b[32m    283\u001b[39m     \u001b[38;5;66;03m# Attempt to match the 'series' because it was likely\u001b[39;00m\n\u001b[32m    284\u001b[39m     \u001b[38;5;66;03m# misspelled.\u001b[39;00m\n\u001b[32m--> \u001b[39m\u001b[32m285\u001b[39m     matches = \u001b[43mdf\u001b[49m\u001b[43m.\u001b[49m\u001b[43mcolumns\u001b[49m\u001b[43m.\u001b[49m\u001b[43mstr\u001b[49m.match(series, case=\u001b[38;5;28;01mFalse\u001b[39;00m)\n\u001b[32m    286\u001b[39m     match = [i \u001b[38;5;28;01mfor\u001b[39;00m i, x \u001b[38;5;129;01min\u001b[39;00m \u001b[38;5;28menumerate\u001b[39m(matches) \u001b[38;5;28;01mif\u001b[39;00m x]\n\u001b[32m    287\u001b[39m     \u001b[38;5;66;03m# If found, awesome.  Return it or return the 'series'.\u001b[39;00m\n",
      "\u001b[36mFile \u001b[39m\u001b[32m~/Code/vs/ai_trading_platform/venv/lib/python3.12/site-packages/pandas/core/accessor.py:224\u001b[39m, in \u001b[36mCachedAccessor.__get__\u001b[39m\u001b[34m(self, obj, cls)\u001b[39m\n\u001b[32m    221\u001b[39m \u001b[38;5;28;01mif\u001b[39;00m obj \u001b[38;5;129;01mis\u001b[39;00m \u001b[38;5;28;01mNone\u001b[39;00m:\n\u001b[32m    222\u001b[39m     \u001b[38;5;66;03m# we're accessing the attribute of the class, i.e., Dataset.geo\u001b[39;00m\n\u001b[32m    223\u001b[39m     \u001b[38;5;28;01mreturn\u001b[39;00m \u001b[38;5;28mself\u001b[39m._accessor\n\u001b[32m--> \u001b[39m\u001b[32m224\u001b[39m accessor_obj = \u001b[38;5;28;43mself\u001b[39;49m\u001b[43m.\u001b[49m\u001b[43m_accessor\u001b[49m\u001b[43m(\u001b[49m\u001b[43mobj\u001b[49m\u001b[43m)\u001b[49m\n\u001b[32m    225\u001b[39m \u001b[38;5;66;03m# Replace the property with the accessor object. Inspired by:\u001b[39;00m\n\u001b[32m    226\u001b[39m \u001b[38;5;66;03m# https://www.pydanny.com/cached-property.html\u001b[39;00m\n\u001b[32m    227\u001b[39m \u001b[38;5;66;03m# We need to use object.__setattr__ because we overwrite __setattr__ on\u001b[39;00m\n\u001b[32m    228\u001b[39m \u001b[38;5;66;03m# NDFrame\u001b[39;00m\n\u001b[32m    229\u001b[39m \u001b[38;5;28mobject\u001b[39m.\u001b[34m__setattr__\u001b[39m(obj, \u001b[38;5;28mself\u001b[39m._name, accessor_obj)\n",
      "\u001b[36mFile \u001b[39m\u001b[32m~/Code/vs/ai_trading_platform/venv/lib/python3.12/site-packages/pandas/core/strings/accessor.py:194\u001b[39m, in \u001b[36mStringMethods.__init__\u001b[39m\u001b[34m(self, data)\u001b[39m\n\u001b[32m    191\u001b[39m \u001b[38;5;28;01mdef\u001b[39;00m\u001b[38;5;250m \u001b[39m\u001b[34m__init__\u001b[39m(\u001b[38;5;28mself\u001b[39m, data) -> \u001b[38;5;28;01mNone\u001b[39;00m:\n\u001b[32m    192\u001b[39m     \u001b[38;5;28;01mfrom\u001b[39;00m\u001b[38;5;250m \u001b[39m\u001b[34;01mpandas\u001b[39;00m\u001b[34;01m.\u001b[39;00m\u001b[34;01mcore\u001b[39;00m\u001b[34;01m.\u001b[39;00m\u001b[34;01marrays\u001b[39;00m\u001b[34;01m.\u001b[39;00m\u001b[34;01mstring_\u001b[39;00m\u001b[38;5;250m \u001b[39m\u001b[38;5;28;01mimport\u001b[39;00m StringDtype\n\u001b[32m--> \u001b[39m\u001b[32m194\u001b[39m     \u001b[38;5;28mself\u001b[39m._inferred_dtype = \u001b[38;5;28;43mself\u001b[39;49m\u001b[43m.\u001b[49m\u001b[43m_validate\u001b[49m\u001b[43m(\u001b[49m\u001b[43mdata\u001b[49m\u001b[43m)\u001b[49m\n\u001b[32m    195\u001b[39m     \u001b[38;5;28mself\u001b[39m._is_categorical = \u001b[38;5;28misinstance\u001b[39m(data.dtype, CategoricalDtype)\n\u001b[32m    196\u001b[39m     \u001b[38;5;28mself\u001b[39m._is_string = \u001b[38;5;28misinstance\u001b[39m(data.dtype, StringDtype)\n",
      "\u001b[36mFile \u001b[39m\u001b[32m~/Code/vs/ai_trading_platform/venv/lib/python3.12/site-packages/pandas/core/strings/accessor.py:234\u001b[39m, in \u001b[36mStringMethods._validate\u001b[39m\u001b[34m(data)\u001b[39m\n\u001b[32m    212\u001b[39m \u001b[38;5;250m\u001b[39m\u001b[33;03m\"\"\"\u001b[39;00m\n\u001b[32m    213\u001b[39m \u001b[33;03mAuxiliary function for StringMethods, infers and checks dtype of data.\u001b[39;00m\n\u001b[32m    214\u001b[39m \n\u001b[32m   (...)\u001b[39m\u001b[32m    231\u001b[39m \u001b[33;03mdtype : inferred dtype of data\u001b[39;00m\n\u001b[32m    232\u001b[39m \u001b[33;03m\"\"\"\u001b[39;00m\n\u001b[32m    233\u001b[39m \u001b[38;5;28;01mif\u001b[39;00m \u001b[38;5;28misinstance\u001b[39m(data, ABCMultiIndex):\n\u001b[32m--> \u001b[39m\u001b[32m234\u001b[39m     \u001b[38;5;28;01mraise\u001b[39;00m \u001b[38;5;167;01mAttributeError\u001b[39;00m(\n\u001b[32m    235\u001b[39m         \u001b[33m\"\u001b[39m\u001b[33mCan only use .str accessor with Index, not MultiIndex\u001b[39m\u001b[33m\"\u001b[39m\n\u001b[32m    236\u001b[39m     )\n\u001b[32m    238\u001b[39m \u001b[38;5;66;03m# see _libs/lib.pyx for list of inferred types\u001b[39;00m\n\u001b[32m    239\u001b[39m allowed_types = [\u001b[33m\"\u001b[39m\u001b[33mstring\u001b[39m\u001b[33m\"\u001b[39m, \u001b[33m\"\u001b[39m\u001b[33mempty\u001b[39m\u001b[33m\"\u001b[39m, \u001b[33m\"\u001b[39m\u001b[33mbytes\u001b[39m\u001b[33m\"\u001b[39m, \u001b[33m\"\u001b[39m\u001b[33mmixed\u001b[39m\u001b[33m\"\u001b[39m, \u001b[33m\"\u001b[39m\u001b[33mmixed-integer\u001b[39m\u001b[33m\"\u001b[39m]\n",
      "\u001b[31mAttributeError\u001b[39m: Can only use .str accessor with Index, not MultiIndex"
     ]
    }
   ],
   "source": [
    "# 載入數據\n",
    "raw_data = fetch_data(ticker=\"SPY\", start_date=\"2015-01-01\", end_date=\"2023-12-31\")\n",
    "\n",
    "# 加入技術指標特徵\n",
    "featured_data = add_technical_indicators(raw_data)\n",
    "\n",
    "print(\"Data with features loaded and prepared:\")\n",
    "# .tail() 會顯示處理完的數據的最後 5 行，讓我們可以快速預覽結果\n",
    "featured_data.tail()"
   ]
  }
 ],
 "metadata": {
  "kernelspec": {
   "display_name": "venv (3.12.4)",
   "language": "python",
   "name": "python3"
  },
  "language_info": {
   "codemirror_mode": {
    "name": "ipython",
    "version": 3
   },
   "file_extension": ".py",
   "mimetype": "text/x-python",
   "name": "python",
   "nbconvert_exporter": "python",
   "pygments_lexer": "ipython3",
   "version": "3.12.4"
  }
 },
 "nbformat": 4,
 "nbformat_minor": 5
}
